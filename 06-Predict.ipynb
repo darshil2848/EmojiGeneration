{
 "cells": [
  {
   "cell_type": "code",
   "execution_count": 1,
   "id": "3c5cb968-eb3b-4d4a-a905-5dc252b3960a",
   "metadata": {},
   "outputs": [],
   "source": [
    "from datasets import load_from_disk\n",
    "\n",
    "import os\n",
    "import torch\n",
    "import torch.nn as nn\n",
    "import torch.optim as optim\n",
    "from torch.autograd import Variable\n",
    "from torch.utils.data import Dataset, DataLoader\n",
    "from PIL import Image\n",
    "\n",
    "import torchvision\n",
    "from torchvision import datasets, transforms\n",
    "\n",
    "import matplotlib.pyplot as plt\n",
    "import numpy as np\n",
    "\n",
    "import argparse\n",
    "import easydict\n",
    "\n",
    "import math\n",
    "\n",
    "import utils\n",
    "\n",
    "from utils import Utils, Logger"
   ]
  },
  {
   "cell_type": "code",
   "execution_count": 32,
   "id": "95ad862a-628d-46ca-af7d-b515876ceb88",
   "metadata": {},
   "outputs": [],
   "source": [
    "import argparse\n",
    "import easydict\n",
    "\n",
    "args = easydict.EasyDict({'type': 'gan',\n",
    "                        'stage' : 1,\n",
    "                        'stage1_gen_path': '',\n",
    "                        'lr': 0.001,\n",
    "                        'l1_coef': 50,\n",
    "                        'l2_coef': 100,\n",
    "                        'noise_dim': 200,\n",
    "                        'embed_dim': 200,\n",
    "                        'projected_embed_dim': 2048,\n",
    "                        'cls': True,\n",
    "                        'save_path':'Result',\n",
    "                        'batch_size': 128,\n",
    "                        'ngf': 64,\n",
    "                        'ndf': 64,\n",
    "                        'num_workers':7,\n",
    "                        'image_size': 64,\n",
    "                        'num_channels': 3,\n",
    "                        'epochs': 1000})"
   ]
  },
  {
   "cell_type": "raw",
   "id": "6fea5dbe-1839-47ff-9b9d-01bbccb25428",
   "metadata": {},
   "source": [
    "'''args = easydict.EasyDict({'type': 'gan',\n",
    "                        'stage' : 2,\n",
    "                        'stage1_gen_path': '/home/emoji_with_text/results-20240917-133819/490/gen.pth',\n",
    "                        'lr': 0.001,\n",
    "                        'l1_coef': 50,\n",
    "                        'l2_coef': 100,\n",
    "                        'noise_dim': 100,\n",
    "                        'embed_dim': 100,\n",
    "                        'cls': True,\n",
    "                        'save_path':'Result',\n",
    "                        'train_data': None,\n",
    "                        'test_data': None,\n",
    "                        'batch_size': 4,\n",
    "                        'ngf': 64,\n",
    "                        'ndf': 64,\n",
    "                        'num_workers':7,\n",
    "                        'image_size': 64,\n",
    "                        'num_channels': 3,\n",
    "                        'epochs': 500})'''"
   ]
  },
  {
   "cell_type": "code",
   "execution_count": 33,
   "id": "766f1672-938b-4e88-9fe4-039e8fdfdf28",
   "metadata": {},
   "outputs": [],
   "source": [
    "from datasets import load_from_disk\n",
    "import numpy as np"
   ]
  },
  {
   "cell_type": "code",
   "execution_count": 34,
   "id": "4f94c65d-ab78-402a-9417-ce618293327a",
   "metadata": {},
   "outputs": [
    {
     "data": {
      "text/plain": [
       "DatasetDict({\n",
       "    train: Dataset({\n",
       "        features: ['image', 'company', 'content', 'description', 'textwithoutcompany', 'fulltext', 'textwithoutcompanycombined'],\n",
       "        num_rows: 33034\n",
       "    })\n",
       "    test: Dataset({\n",
       "        features: ['image', 'company', 'content', 'description', 'textwithoutcompany', 'fulltext', 'textwithoutcompanycombined'],\n",
       "        num_rows: 14158\n",
       "    })\n",
       "})"
      ]
     },
     "execution_count": 34,
     "metadata": {},
     "output_type": "execute_result"
    }
   ],
   "source": [
    "reloaded_dataset = load_from_disk(\"PreProcessedData3\")\n",
    "reloaded_dataset"
   ]
  },
  {
   "cell_type": "code",
   "execution_count": 35,
   "id": "8b68d425-9bb5-498f-bab2-eff5c3ff7dfa",
   "metadata": {},
   "outputs": [],
   "source": [
    "from collections import Counter\n",
    "import torch\n",
    "import torch.nn as nn"
   ]
  },
  {
   "cell_type": "code",
   "execution_count": 36,
   "id": "a5e493d4-32ae-49f6-b2b1-1d4576629810",
   "metadata": {},
   "outputs": [
    {
     "name": "stdout",
     "output_type": "stream",
     "text": [
      "690114\n",
      "984594\n"
     ]
    }
   ],
   "source": [
    "merged_sentance = \"\"\n",
    "for data in reloaded_dataset[\"train\"]:\n",
    "    merged_sentance = merged_sentance + data[\"textwithoutcompanycombined\"]+\" \"\n",
    "print(len(merged_sentance))\n",
    "for data in reloaded_dataset[\"test\"]:\n",
    "    merged_sentance = merged_sentance + data[\"textwithoutcompanycombined\"]+\" \"\n",
    "print(len(merged_sentance))"
   ]
  },
  {
   "cell_type": "code",
   "execution_count": 37,
   "id": "7332f688-7aca-4922-a6ea-0f74fc9a9c76",
   "metadata": {},
   "outputs": [],
   "source": [
    "words = merged_sentance.split(' ')\n",
    " \n",
    "# create a dictionary\n",
    "vocab = Counter(words) \n",
    "vocab = sorted(vocab, key=vocab.get, reverse=True)\n",
    "vocab_size = len(vocab)\n",
    " \n",
    "# create a word to index dictionary from our Vocab dictionary\n",
    "word2idx = {word: ind for ind, word in enumerate(vocab, 1)} \n",
    "idx2word = {ind: word for ind, word in enumerate(vocab, 1)}"
   ]
  },
  {
   "cell_type": "code",
   "execution_count": 38,
   "id": "6568b038-520b-404c-a594-495d187d7daf",
   "metadata": {},
   "outputs": [],
   "source": [
    "e_dim = 20\n",
    "torch.manual_seed(108)\n",
    "emb = nn.Embedding(vocab_size, e_dim)"
   ]
  },
  {
   "cell_type": "code",
   "execution_count": 39,
   "id": "5b7c1ad5-3551-4714-8a8d-6d0d9bb6f5f4",
   "metadata": {},
   "outputs": [],
   "source": [
    "def get_encoded_sentences(sentance):\n",
    "    words = sentance.split(' ')\n",
    "    encoded_words = [word2idx[word] for word in words]\n",
    "    return encoded_words\n",
    "\n",
    "def get_decoded_sentences(encoded_words):\n",
    "    sentance = ' '.join([idx2word[idx] for idx in encoded_words])\n",
    "    return sentance"
   ]
  },
  {
   "cell_type": "code",
   "execution_count": 49,
   "id": "56b5d0da-a7d5-4904-870e-2a420af6b988",
   "metadata": {},
   "outputs": [],
   "source": [
    "testtext = 'woman man holding hands'\n",
    "encoded_sentences = get_encoded_sentences(testtext)\n",
    "encoded_sentences = np.pad(encoded_sentences, [(0, 10-len(encoded_sentences))], mode='constant', constant_values=0)\n",
    "word_vectors = emb(torch.LongTensor(encoded_sentences))\n",
    "word_vectors = word_vectors.reshape(word_vectors.shape[0]*word_vectors.shape[1]).detach().numpy()"
   ]
  },
  {
   "cell_type": "code",
   "execution_count": 50,
   "id": "b75bc8b9-7d75-4cd4-b7e1-476dcad39048",
   "metadata": {},
   "outputs": [
    {
     "data": {
      "text/plain": [
       "array([-1.1474894e+00, -4.1638729e-01, -1.4853164e+00,  1.0850017e+00,\n",
       "       -2.2135925e+00,  3.1873617e-01, -5.3673053e-01,  1.0872558e+00,\n",
       "        3.0153263e-01,  4.0867624e-01,  3.7414219e-02,  3.0022106e-01,\n",
       "       -2.6253048e-01,  8.4488195e-01,  1.5109459e-01,  7.7006936e-01,\n",
       "       -1.4467649e-01, -1.6484622e+00,  5.1223898e-01,  7.5517184e-01,\n",
       "       -1.0527424e+00,  5.0792909e-01, -6.1527294e-01, -5.1569355e-01,\n",
       "       -7.2788358e-01, -1.2218233e+00,  1.6580805e+00, -6.1811656e-01,\n",
       "       -1.8767943e+00,  1.3310223e+00,  4.3200305e-01, -1.6278013e+00,\n",
       "        1.0160360e+00, -4.1486952e-01, -1.3289210e+00,  2.5416508e+00,\n",
       "        1.3796252e-02, -9.2079204e-01, -1.4813539e+00, -9.8601961e-01,\n",
       "       -7.5554568e-04, -1.1273984e+00, -1.3774681e+00,  1.2807808e-02,\n",
       "        9.3518674e-01,  1.7019741e-01,  2.0493486e+00, -3.4191179e-01,\n",
       "        1.7672888e+00, -8.7568149e-02,  5.0226337e-01,  5.6978840e-01,\n",
       "       -1.5931857e+00, -4.0861481e-01,  2.9879400e-01, -8.7463282e-02,\n",
       "        3.1297100e+00,  7.8797698e-01,  6.8788338e-01, -7.9775798e-01,\n",
       "       -2.9795048e-01,  1.3765966e+00, -1.0839227e+00, -6.3620955e-01,\n",
       "        6.6906148e-01,  4.3489105e-01,  1.5060177e+00, -2.9207790e-02,\n",
       "       -6.0195041e-01, -1.5597636e-01, -1.2624984e+00,  1.1040388e+00,\n",
       "        1.7576239e+00,  4.2523852e-01,  7.2389406e-01,  5.2751237e-01,\n",
       "       -7.1593559e-01,  9.8280239e-01, -1.9234695e-01,  8.6900711e-01,\n",
       "       -7.9160291e-01, -7.5350225e-01,  1.7878226e+00, -3.8895676e-01,\n",
       "       -1.1482836e+00, -1.3955410e+00, -3.3078420e-01,  4.3399441e-01,\n",
       "       -1.6239568e+00,  4.6878953e-02,  2.3482616e-01,  1.2304263e+00,\n",
       "       -2.8079075e-01, -2.3490097e-01, -6.2653483e-03, -1.0051268e+00,\n",
       "       -1.1442207e+00, -1.0616112e+00, -9.5910597e-01,  7.9948807e-01,\n",
       "       -7.9160291e-01, -7.5350225e-01,  1.7878226e+00, -3.8895676e-01,\n",
       "       -1.1482836e+00, -1.3955410e+00, -3.3078420e-01,  4.3399441e-01,\n",
       "       -1.6239568e+00,  4.6878953e-02,  2.3482616e-01,  1.2304263e+00,\n",
       "       -2.8079075e-01, -2.3490097e-01, -6.2653483e-03, -1.0051268e+00,\n",
       "       -1.1442207e+00, -1.0616112e+00, -9.5910597e-01,  7.9948807e-01,\n",
       "       -7.9160291e-01, -7.5350225e-01,  1.7878226e+00, -3.8895676e-01,\n",
       "       -1.1482836e+00, -1.3955410e+00, -3.3078420e-01,  4.3399441e-01,\n",
       "       -1.6239568e+00,  4.6878953e-02,  2.3482616e-01,  1.2304263e+00,\n",
       "       -2.8079075e-01, -2.3490097e-01, -6.2653483e-03, -1.0051268e+00,\n",
       "       -1.1442207e+00, -1.0616112e+00, -9.5910597e-01,  7.9948807e-01,\n",
       "       -7.9160291e-01, -7.5350225e-01,  1.7878226e+00, -3.8895676e-01,\n",
       "       -1.1482836e+00, -1.3955410e+00, -3.3078420e-01,  4.3399441e-01,\n",
       "       -1.6239568e+00,  4.6878953e-02,  2.3482616e-01,  1.2304263e+00,\n",
       "       -2.8079075e-01, -2.3490097e-01, -6.2653483e-03, -1.0051268e+00,\n",
       "       -1.1442207e+00, -1.0616112e+00, -9.5910597e-01,  7.9948807e-01,\n",
       "       -7.9160291e-01, -7.5350225e-01,  1.7878226e+00, -3.8895676e-01,\n",
       "       -1.1482836e+00, -1.3955410e+00, -3.3078420e-01,  4.3399441e-01,\n",
       "       -1.6239568e+00,  4.6878953e-02,  2.3482616e-01,  1.2304263e+00,\n",
       "       -2.8079075e-01, -2.3490097e-01, -6.2653483e-03, -1.0051268e+00,\n",
       "       -1.1442207e+00, -1.0616112e+00, -9.5910597e-01,  7.9948807e-01,\n",
       "       -7.9160291e-01, -7.5350225e-01,  1.7878226e+00, -3.8895676e-01,\n",
       "       -1.1482836e+00, -1.3955410e+00, -3.3078420e-01,  4.3399441e-01,\n",
       "       -1.6239568e+00,  4.6878953e-02,  2.3482616e-01,  1.2304263e+00,\n",
       "       -2.8079075e-01, -2.3490097e-01, -6.2653483e-03, -1.0051268e+00,\n",
       "       -1.1442207e+00, -1.0616112e+00, -9.5910597e-01,  7.9948807e-01],\n",
       "      dtype=float32)"
      ]
     },
     "execution_count": 50,
     "metadata": {},
     "output_type": "execute_result"
    }
   ],
   "source": [
    "word_vectors"
   ]
  },
  {
   "cell_type": "code",
   "execution_count": 51,
   "id": "1cbdda71-ffe8-46a7-b40e-c2f35da18876",
   "metadata": {},
   "outputs": [],
   "source": [
    "class generator(nn.Module):\n",
    "    def __init__(self):\n",
    "        super(generator, self).__init__()\n",
    "        self.image_size = args.image_size\n",
    "        self.num_channels = args.num_channels\n",
    "        self.noise_dim = args.noise_dim\n",
    "        self.embed_dim = args.embed_dim\n",
    "        self.projected_embed_dim = args.projected_embed_dim\n",
    "        self.latent_dim = self.noise_dim + (self.projected_embed_dim * 2)\n",
    "        self.ngf = args.ngf\n",
    "        \n",
    "        self.projection = nn.Sequential(\n",
    "            nn.Linear(in_features=self.embed_dim, out_features=self.projected_embed_dim),\n",
    "            nn.BatchNorm1d(num_features=self.projected_embed_dim),\n",
    "            nn.LeakyReLU(negative_slope=0.2, inplace=True),\n",
    "            nn.Linear(in_features=self.projected_embed_dim, out_features=self.projected_embed_dim*2),\n",
    "            nn.BatchNorm1d(num_features=self.projected_embed_dim*2),\n",
    "            nn.LeakyReLU(negative_slope=0.2, inplace=True)\n",
    "            )\n",
    "\n",
    "        self.netG = nn.Sequential(\n",
    "            nn.ConvTranspose2d(self.latent_dim, self.ngf * 16, 2, 1, 0, bias=False),\n",
    "            nn.BatchNorm2d(self.ngf * 16),\n",
    "            nn.ReLU(True),\n",
    "            # state size. (ngf*8) x 4 x 4\n",
    "            nn.ConvTranspose2d(self.ngf * 16, self.ngf * 8, 3, 1, 0, bias=False),\n",
    "            nn.BatchNorm2d(self.ngf * 8),\n",
    "            nn.ReLU(True),\n",
    "            # state size. (ngf*8) x 4 x 4\n",
    "            nn.ConvTranspose2d(self.ngf * 8, self.ngf * 4, 4, 2, 1, bias=False),\n",
    "            nn.BatchNorm2d(self.ngf * 4),\n",
    "            nn.ReLU(True),\n",
    "            # state size. (ngf*4) x 8 x 8\n",
    "            nn.ConvTranspose2d(self.ngf * 4, self.ngf * 2, 4, 2, 1, bias=False),\n",
    "            nn.BatchNorm2d(self.ngf * 2),\n",
    "            nn.ReLU(True),\n",
    "            # state size. (ngf*2) x 16 x 16\n",
    "            nn.ConvTranspose2d(self.ngf * 2,self.ngf, 4, 2, 1, bias=False),\n",
    "            nn.BatchNorm2d(self.ngf),\n",
    "            nn.ReLU(True),\n",
    "            # state size. (ngf) x 32 x 32\n",
    "            nn.ConvTranspose2d(self.ngf, self.num_channels, 4, 2, 1, bias=False),\n",
    "            nn.Tanh()\n",
    "             # state size. (num_channels) x 64 x 64\n",
    "            )\n",
    "\n",
    "\n",
    "    def forward(self, embed_vector, z):\n",
    "\n",
    "        projected_embed = self.projection(embed_vector).unsqueeze(2).unsqueeze(3)\n",
    "        latent_vector = torch.cat([projected_embed, z], 1)\n",
    "        output = self.netG(latent_vector)\n",
    "\n",
    "        return output"
   ]
  },
  {
   "cell_type": "code",
   "execution_count": 52,
   "id": "a1596644-ab6e-4454-b0b7-03948fe23185",
   "metadata": {},
   "outputs": [],
   "source": [
    "class generator2(nn.Module):\n",
    "    def __init__(self,stage1_gen):\n",
    "        super(generator2, self).__init__()\n",
    "        self.image_size = args.image_size\n",
    "        self.num_channels = args.num_channels\n",
    "        self.noise_dim = args.noise_dim\n",
    "        self.embed_dim = args.embed_dim\n",
    "        self.projected_embed_dim = args.projected_embed_dim\n",
    "        self.latent_dim = self.noise_dim + self.projected_embed_dim\n",
    "        self.stage2_latent_dim = self.image_size*self.image_size*self.num_channels + self.noise_dim + self.projected_embed_dim\n",
    "        self.ngf = args.ngf\n",
    "        \n",
    "        self.stage1_gen = stage1_gen\n",
    "        # Freezing the stage 1 generator:\n",
    "        for param in self.stage1_gen.parameters():\n",
    "            param.requires_grad = False\n",
    "            \n",
    "            \n",
    "        self.encoder = nn.Sequential(\n",
    "            nn.ConvTranspose2d(3, 128, 3, 1, 1, bias=False),\n",
    "            nn.LeakyReLU(0.2, inplace=True), #? Paper: leaky, code: relu\n",
    "            nn.Conv2d(128, 256, kernel_size=4, stride=2, padding=1, bias=False),\n",
    "            nn.BatchNorm2d(256),\n",
    "            nn.LeakyReLU(0.2, inplace=True),\n",
    "            nn.Conv2d(256, 512, kernel_size=4, stride=2, padding=1, bias=False),\n",
    "            nn.BatchNorm2d(512),\n",
    "            nn.LeakyReLU(0.2, inplace=True)\n",
    "        )\n",
    "        \n",
    "        self.projection = nn.Sequential(\n",
    "            nn.Linear(in_features=self.embed_dim, out_features=self.projected_embed_dim),\n",
    "            nn.BatchNorm1d(num_features=self.projected_embed_dim),\n",
    "            nn.LeakyReLU(negative_slope=0.2, inplace=True)\n",
    "            )\n",
    "\n",
    "        self.netG = nn.Sequential(\n",
    "            nn.ConvTranspose2d(self.projected_embed_dim+512, 512, 4, 2, 1, bias=False),\n",
    "            nn.BatchNorm2d(512),\n",
    "            nn.ReLU(True),\n",
    "            # state size. (ngf*2) x 16 x 16\n",
    "            nn.ConvTranspose2d(512,256, 4, 2, 1, bias=False),\n",
    "            nn.BatchNorm2d(256),\n",
    "            nn.ReLU(True),\n",
    "            # state size. (ngf*2) x 16 x 16\n",
    "            nn.ConvTranspose2d(256,128, 3, 1, 1, bias=False),\n",
    "            nn.BatchNorm2d(128),\n",
    "            nn.ReLU(True),\n",
    "            nn.ConvTranspose2d(128,64, 3, 1, 1, bias=False),\n",
    "            nn.BatchNorm2d(64),\n",
    "            nn.ReLU(True),\n",
    "            # state size. (ngf) x 32 x 32\n",
    "            nn.ConvTranspose2d(64, self.num_channels, 3, 1, 1, bias=False),\n",
    "            nn.Tanh()\n",
    "             # state size. (num_channels) x 64 x 64\n",
    "            )\n",
    "            \n",
    "\n",
    "\n",
    "    def forward(self, embed_vector, noise):\n",
    "        \n",
    "        stage1_img = self.stage1_gen(embed_vector, noise)\n",
    "        stage1_img = stage1_img.detach()\n",
    "        \n",
    "        #(batch_size,512,16,16)\n",
    "        encoded_img = self.encoder(stage1_img)\n",
    "        \n",
    "        #(batch_size,128,16,16)\n",
    "        projected_embed = self.projection(embed_vector).unsqueeze(2).unsqueeze(3).repeat(1, 1, 16, 16)\n",
    "        \n",
    "        #(batch_size,512,16,16)\n",
    "        latent_vector = torch.cat([encoded_img,projected_embed], 1)\n",
    "        \n",
    "        #(batch_size,3,64,64)\n",
    "        output = self.netG(latent_vector)\n",
    "\n",
    "        return output"
   ]
  },
  {
   "cell_type": "code",
   "execution_count": 53,
   "id": "061ea4dd-5b86-4046-9df8-e92dde7befaa",
   "metadata": {},
   "outputs": [],
   "source": [
    "def predict(emd, gen):\n",
    "    right_embed = Variable(torch.LongTensor(np.array(emd, dtype=\"float32\")).float())\n",
    "\n",
    "    # Train the generator\n",
    "    noise = Variable(torch.randn(len(emd),200))\n",
    "    noise = noise.view(len(emd),200, 1, 1)\n",
    "    \n",
    "    fake_images = gen(right_embed, noise)\n",
    "\n",
    "    return fake_images"
   ]
  },
  {
   "cell_type": "code",
   "execution_count": 54,
   "id": "ae1655ad-3320-4731-abdc-ef4047abbb36",
   "metadata": {},
   "outputs": [],
   "source": [
    "def load_generator(stage,path):\n",
    "    if stage == 1:\n",
    "        gen = torch.load(path)\n",
    "        state_dict = {}\n",
    "        for key in gen:\n",
    "            state_dict[\"\".join(key.split(\"module.\")[1:])] = gen[key]\n",
    "        stage1_generator = generator()\n",
    "        stage1_generator.load_state_dict(state_dict)\n",
    "        \n",
    "        return stage1_generator\n",
    "    else:\n",
    "        gen = torch.load(path)\n",
    "        state_dict = {}\n",
    "        for key in gen:\n",
    "            state_dict[\"\".join(key.split(\"module.\")[1:])] = gen[key]\n",
    "        stage1_generator = generator()\n",
    "        stage2_generator = generator2(stage1_generator)\n",
    "        stage2_generator.load_state_dict(state_dict)\n",
    "        \n",
    "        return stage2_generator"
   ]
  },
  {
   "cell_type": "raw",
   "id": "dc0aa440-5a5c-4f50-8ad8-90fead0cc1a2",
   "metadata": {},
   "source": [
    "gen = torch.load('/home/emoji_with_text/results-20240918-153314/100/gen.pth')\n",
    "gen.keys(),len(gen.keys())"
   ]
  },
  {
   "cell_type": "raw",
   "id": "0d9b17a6-39be-4b37-af30-9f679fc9ab3e",
   "metadata": {},
   "source": [
    "state_dict = {}\n",
    "for key in gen:\n",
    "    #print(\"\".join(key.split(\"module.\")[1:]))\n",
    "    state_dict[\"\".join(key.split(\"module.\")[1:])] = gen[key]\n",
    "state_dict.keys(),len(state_dict.keys())"
   ]
  },
  {
   "cell_type": "raw",
   "id": "90d2deb8-823d-43fb-b97a-86ee9a5de1b8",
   "metadata": {
    "tags": []
   },
   "source": [
    "(state_dict['projection.0.weight'] != gen['module.projection.0.weight']).sum()"
   ]
  },
  {
   "cell_type": "raw",
   "id": "b080e6cb-6219-4cdd-85c2-95914208f1f5",
   "metadata": {},
   "source": [
    "stage1_generator = generator()\n",
    "#generator = generator2(stage1_generator)\n",
    "gen = stage1_generator.load_state_dict(state_dict)\n",
    "gen"
   ]
  },
  {
   "cell_type": "code",
   "execution_count": 55,
   "id": "6972879b-fad5-4905-9c3e-20b2b3e83726",
   "metadata": {},
   "outputs": [
    {
     "data": {
      "image/jpeg": "[encoded data removed]",
      "image/png": "[encoded data removed]",
      "text/plain": [
       "<PIL.Image.Image image mode=RGB size=64x64>"
      ]
     },
     "metadata": {},
     "output_type": "display_data"
    },
    {
     "data": {
      "image/jpeg": "[encoded data removed]",
      "image/png": "[encoded data removed]",
      "text/plain": [
       "<PIL.Image.Image image mode=RGB size=64x64>"
      ]
     },
     "metadata": {},
     "output_type": "display_data"
    },
    {
     "data": {
      "image/jpeg": "[encoded data removed]",
      "image/png": "[encoded data removed]",
      "text/plain": [
       "<PIL.Image.Image image mode=RGB size=64x64>"
      ]
     },
     "metadata": {},
     "output_type": "display_data"
    },
    {
     "data": {
      "image/jpeg": "[encoded data removed]",
      "image/png": "[encoded data removed]",
      "text/plain": [
       "<PIL.Image.Image image mode=RGB size=64x64>"
      ]
     },
     "metadata": {},
     "output_type": "display_data"
    },
    {
     "data": {
      "image/jpeg": "[encoded data removed]",
      "image/png": "[encoded data removed]",
      "text/plain": [
       "<PIL.Image.Image image mode=RGB size=64x64>"
      ]
     },
     "metadata": {},
     "output_type": "display_data"
    },
    {
     "data": {
      "image/jpeg": "[encoded data removed]",
      "image/png": "[encoded data removed]",
      "text/plain": [
       "<PIL.Image.Image image mode=RGB size=64x64>"
      ]
     },
     "metadata": {},
     "output_type": "display_data"
    },
    {
     "data": {
      "image/jpeg": "[encoded data removed]",
      "image/png": "[encoded data removed]",
      "text/plain": [
       "<PIL.Image.Image image mode=RGB size=64x64>"
      ]
     },
     "metadata": {},
     "output_type": "display_data"
    },
    {
     "data": {
      "image/jpeg": "[encoded data removed]",
      "image/png": "[encoded data removed]",
      "text/plain": [
       "<PIL.Image.Image image mode=RGB size=64x64>"
      ]
     },
     "metadata": {},
     "output_type": "display_data"
    },
    {
     "data": {
      "image/jpeg": "[encoded data removed]",
      "image/png": "[encoded data removed]",
      "text/plain": [
       "<PIL.Image.Image image mode=RGB size=64x64>"
      ]
     },
     "metadata": {},
     "output_type": "display_data"
    }
   ],
   "source": [
    "epochs = [\"100\",\"200\",\"300\",\"400\",\"500\",\"600\",\"700\",\"800\",\"900\"]\n",
    "folderdir = \"/home/emoji_with_text/results-20240922-071227\" \n",
    "for epoch in epochs:\n",
    "    path = os.path.join(folderdir,epoch,\"gen.pth\")\n",
    "    stage1_generator = load_generator(1,path)\n",
    "    stage1_generator.eval()\n",
    "    image = predict([word_vectors]*2,stage1_generator)\n",
    "    im = Image.fromarray(image[1].data.mul_(127.5).add_(127.5).byte().permute(1, 2, 0).numpy())\n",
    "    im.show()"
   ]
  },
  {
   "cell_type": "markdown",
   "id": "740d3b78-91bb-4f3f-9fd2-bd19265a0cfb",
   "metadata": {},
   "source": [
    "stage1_generator = load_generator(1,'/home/emoji_with_text/results-20240918-153314/400/gen.pth')"
   ]
  },
  {
   "cell_type": "raw",
   "id": "ab4b3b3e-edef-4d23-9a71-3854ee152ee6",
   "metadata": {},
   "source": [
    "image = predict([word_vectors]*2,stage1_generator)\n",
    "image[0].shape"
   ]
  },
  {
   "cell_type": "raw",
   "id": "2a67c989-a33b-43a6-b4cc-fa58907c60c2",
   "metadata": {},
   "source": [
    "from PIL import Image\n",
    "im = Image.fromarray(image[1].data.mul_(127.5).add_(127.5).byte().permute(1, 2, 0).numpy())\n",
    "im"
   ]
  },
  {
   "cell_type": "raw",
   "id": "ad862ca6-fa7f-41ef-a42d-8fd3b66b9df2",
   "metadata": {},
   "source": [
    "stage1_generator.eval()"
   ]
  },
  {
   "cell_type": "raw",
   "id": "a4e844f6-2e78-444d-be69-7d2f1c8fa226",
   "metadata": {},
   "source": [
    "image = predict([word_vectors]*2,stage1_generator)\n",
    "image[0].shape"
   ]
  },
  {
   "cell_type": "raw",
   "id": "e365a5e6-4cbb-4409-87ef-0800585b3309",
   "metadata": {},
   "source": [
    "im = Image.fromarray(image[1].data.mul_(127.5).add_(127.5).byte().permute(1, 2, 0).numpy())\n",
    "im"
   ]
  }
 ],
 "metadata": {
  "kernelspec": {
   "display_name": "Python 3 (ipykernel)",
   "language": "python",
   "name": "python3"
  },
  "language_info": {
   "codemirror_mode": {
    "name": "ipython",
    "version": 3
   },
   "file_extension": ".py",
   "mimetype": "text/x-python",
   "name": "python",
   "nbconvert_exporter": "python",
   "pygments_lexer": "ipython3",
   "version": "3.8.12"
  }
 },
 "nbformat": 4,
 "nbformat_minor": 5
}
