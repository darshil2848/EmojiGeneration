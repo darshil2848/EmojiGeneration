{
 "cells": [
  {
   "cell_type": "code",
   "execution_count": 1,
   "id": "20631e0c-5f53-465b-8d9e-7b8072e26eda",
   "metadata": {},
   "outputs": [],
   "source": [
    "from datasets import load_from_disk\n",
    "import numpy as np"
   ]
  },
  {
   "cell_type": "code",
   "execution_count": 2,
   "id": "246a008c-a210-4bd6-99c4-0ada886cb11e",
   "metadata": {},
   "outputs": [
    {
     "data": {
      "text/plain": [
       "DatasetDict({\n",
       "    train: Dataset({\n",
       "        features: ['image', 'company', 'content', 'description', 'textwithoutcompany', 'fulltext', 'textwithoutcompanycombined'],\n",
       "        num_rows: 33034\n",
       "    })\n",
       "    test: Dataset({\n",
       "        features: ['image', 'company', 'content', 'description', 'textwithoutcompany', 'fulltext', 'textwithoutcompanycombined'],\n",
       "        num_rows: 14158\n",
       "    })\n",
       "})"
      ]
     },
     "execution_count": 2,
     "metadata": {},
     "output_type": "execute_result"
    }
   ],
   "source": [
    "reloaded_dataset = load_from_disk(\"PreProcessedData3\")\n",
    "reloaded_dataset"
   ]
  },
  {
   "cell_type": "code",
   "execution_count": 3,
   "id": "0c4dd5ce-701a-4afc-afdf-93e675147864",
   "metadata": {},
   "outputs": [],
   "source": [
    "from collections import Counter\n",
    "import torch\n",
    "import torch.nn as nn"
   ]
  },
  {
   "cell_type": "code",
   "execution_count": 4,
   "id": "ab0deb7d-245d-4620-b9d6-dd71df74600a",
   "metadata": {},
   "outputs": [
    {
     "name": "stdout",
     "output_type": "stream",
     "text": [
      "690114\n",
      "984594\n"
     ]
    }
   ],
   "source": [
    "merged_sentance = \"\"\n",
    "for data in reloaded_dataset[\"train\"]:\n",
    "    merged_sentance = merged_sentance + data[\"textwithoutcompanycombined\"]+\" \"\n",
    "print(len(merged_sentance))\n",
    "for data in reloaded_dataset[\"test\"]:\n",
    "    merged_sentance = merged_sentance + data[\"textwithoutcompanycombined\"]+\" \"\n",
    "print(len(merged_sentance))"
   ]
  },
  {
   "cell_type": "code",
   "execution_count": 5,
   "id": "437fdfb1-c1db-4dff-888d-5c9b1029add7",
   "metadata": {},
   "outputs": [],
   "source": [
    "words = merged_sentance.split(' ')\n",
    " \n",
    "# create a dictionary\n",
    "vocab = Counter(words) \n",
    "vocab = sorted(vocab, key=vocab.get, reverse=True)\n",
    "vocab_size = len(vocab)\n",
    " \n",
    "# create a word to index dictionary from our Vocab dictionary\n",
    "word2idx = {word: ind for ind, word in enumerate(vocab, 1)} \n",
    "idx2word = {ind: word for ind, word in enumerate(vocab, 1)} "
   ]
  },
  {
   "cell_type": "code",
   "execution_count": 6,
   "id": "50028dbd-de1c-40c4-acc0-ce7ed192eb1c",
   "metadata": {},
   "outputs": [],
   "source": [
    "#idx2word[0]"
   ]
  },
  {
   "cell_type": "code",
   "execution_count": 7,
   "id": "862fbc17-ae03-48b5-b1ae-b6ed63eafb22",
   "metadata": {},
   "outputs": [
    {
     "data": {
      "text/plain": [
       "(1748, 1748)"
      ]
     },
     "execution_count": 7,
     "metadata": {},
     "output_type": "execute_result"
    }
   ],
   "source": [
    "len(word2idx),len(idx2word)"
   ]
  },
  {
   "cell_type": "code",
   "execution_count": 8,
   "id": "37fb99e6-6cbc-466f-b090-32f7e6b57af8",
   "metadata": {},
   "outputs": [
    {
     "data": {
      "text/plain": [
       "'flag South Georgia &amp; South Sandwich Islands'"
      ]
     },
     "execution_count": 8,
     "metadata": {},
     "output_type": "execute_result"
    }
   ],
   "source": [
    "maxlength = 0\n",
    "maxstring = \"\"\n",
    "for text in reloaded_dataset[\"train\"]['textwithoutcompanycombined']:\n",
    "    if len(text.split(' ')) > maxlength:\n",
    "        maxlength = len(text.split(' '))\n",
    "        maxstring = text\n",
    "maxstring"
   ]
  },
  {
   "cell_type": "code",
   "execution_count": 9,
   "id": "725eb0a0-1d72-42ea-b180-8f14745d1e50",
   "metadata": {},
   "outputs": [
    {
     "data": {
      "text/plain": [
       "('flag South Georgia &amp; South Sandwich Islands', 7)"
      ]
     },
     "execution_count": 9,
     "metadata": {},
     "output_type": "execute_result"
    }
   ],
   "source": [
    "maxlength = 0\n",
    "maxstring = \"\"\n",
    "for text in reloaded_dataset[\"test\"]['textwithoutcompanycombined']:\n",
    "    if len(text.split(' ')) > maxlength:\n",
    "        maxlength = len(text.split(' '))\n",
    "        maxstring = text\n",
    "maxstring, maxlength"
   ]
  },
  {
   "cell_type": "code",
   "execution_count": 10,
   "id": "008562d4-3789-4d26-8ab8-5d3b980b2438",
   "metadata": {},
   "outputs": [],
   "source": [
    "words = reloaded_dataset[\"train\"][1]['textwithoutcompanycombined']\n",
    "words = words.split(' ')"
   ]
  },
  {
   "cell_type": "code",
   "execution_count": 11,
   "id": "af018a6d-e1aa-4db9-af63-dda2e39e1ff6",
   "metadata": {},
   "outputs": [
    {
     "data": {
      "text/plain": [
       "['spiral', 'calendar']"
      ]
     },
     "execution_count": 11,
     "metadata": {},
     "output_type": "execute_result"
    }
   ],
   "source": [
    "words"
   ]
  },
  {
   "cell_type": "code",
   "execution_count": 12,
   "id": "c7304275-11c7-4aa9-a929-3b6e9cd31f0a",
   "metadata": {},
   "outputs": [],
   "source": [
    "encoded_sentences = [word2idx[word] for word in words]"
   ]
  },
  {
   "cell_type": "code",
   "execution_count": 13,
   "id": "303ecce6-8560-44e6-8c62-e316315c3d04",
   "metadata": {},
   "outputs": [
    {
     "data": {
      "text/plain": [
       "[292, 280]"
      ]
     },
     "execution_count": 13,
     "metadata": {},
     "output_type": "execute_result"
    }
   ],
   "source": [
    "encoded_sentences"
   ]
  },
  {
   "cell_type": "code",
   "execution_count": 14,
   "id": "a11fd4f9-1838-49df-b938-464be721c000",
   "metadata": {},
   "outputs": [
    {
     "data": {
      "text/plain": [
       "array([292, 280,   0,   0,   0,   0,   0,   0,   0,   0])"
      ]
     },
     "execution_count": 14,
     "metadata": {},
     "output_type": "execute_result"
    }
   ],
   "source": [
    "encoded_sentences = np.pad(encoded_sentences, [(0, 10-len(encoded_sentences))], mode='constant', constant_values=0)\n",
    "encoded_sentences"
   ]
  },
  {
   "cell_type": "code",
   "execution_count": 15,
   "id": "24a20907-1403-4677-ab62-725b25f5fa06",
   "metadata": {},
   "outputs": [
    {
     "name": "stdout",
     "output_type": "stream",
     "text": [
      "torch.Size([10, 20])\n"
     ]
    }
   ],
   "source": [
    "e_dim = 20\n",
    "torch.manual_seed(108)\n",
    "emb = nn.Embedding(vocab_size, e_dim)\n",
    "\n",
    "# initialise an Embedding layer from Torch\n",
    "word_vectors = emb(torch.LongTensor(encoded_sentences))\n",
    " \n",
    "#print the word_vectors\n",
    "print(word_vectors.shape)"
   ]
  },
  {
   "cell_type": "code",
   "execution_count": 16,
   "id": "30d6434f-ff17-496c-af4d-26e066e9fb51",
   "metadata": {},
   "outputs": [
    {
     "data": {
      "text/plain": [
       "tensor([[ 0.8774,  2.6091, -1.6474,  0.7395,  2.5295,  0.9154,  1.3531, -0.5064,\n",
       "          0.4786,  1.3478,  0.3787, -1.2011, -0.3320,  0.3511,  0.3902, -0.8412,\n",
       "         -0.3038,  1.0621, -2.1123, -1.0391],\n",
       "        [-0.1156, -0.8925,  2.3348,  2.0050,  0.9116, -0.4180,  0.1533,  1.1945,\n",
       "          1.5877, -1.4791,  0.1501,  0.7314,  1.4814, -1.4480,  0.5282, -0.0815,\n",
       "          0.0329,  0.4260,  0.1926, -0.8453],\n",
       "        [-0.7916, -0.7535,  1.7878, -0.3890, -1.1483, -1.3955, -0.3308,  0.4340,\n",
       "         -1.6240,  0.0469,  0.2348,  1.2304, -0.2808, -0.2349, -0.0063, -1.0051,\n",
       "         -1.1442, -1.0616, -0.9591,  0.7995],\n",
       "        [-0.7916, -0.7535,  1.7878, -0.3890, -1.1483, -1.3955, -0.3308,  0.4340,\n",
       "         -1.6240,  0.0469,  0.2348,  1.2304, -0.2808, -0.2349, -0.0063, -1.0051,\n",
       "         -1.1442, -1.0616, -0.9591,  0.7995],\n",
       "        [-0.7916, -0.7535,  1.7878, -0.3890, -1.1483, -1.3955, -0.3308,  0.4340,\n",
       "         -1.6240,  0.0469,  0.2348,  1.2304, -0.2808, -0.2349, -0.0063, -1.0051,\n",
       "         -1.1442, -1.0616, -0.9591,  0.7995],\n",
       "        [-0.7916, -0.7535,  1.7878, -0.3890, -1.1483, -1.3955, -0.3308,  0.4340,\n",
       "         -1.6240,  0.0469,  0.2348,  1.2304, -0.2808, -0.2349, -0.0063, -1.0051,\n",
       "         -1.1442, -1.0616, -0.9591,  0.7995],\n",
       "        [-0.7916, -0.7535,  1.7878, -0.3890, -1.1483, -1.3955, -0.3308,  0.4340,\n",
       "         -1.6240,  0.0469,  0.2348,  1.2304, -0.2808, -0.2349, -0.0063, -1.0051,\n",
       "         -1.1442, -1.0616, -0.9591,  0.7995],\n",
       "        [-0.7916, -0.7535,  1.7878, -0.3890, -1.1483, -1.3955, -0.3308,  0.4340,\n",
       "         -1.6240,  0.0469,  0.2348,  1.2304, -0.2808, -0.2349, -0.0063, -1.0051,\n",
       "         -1.1442, -1.0616, -0.9591,  0.7995],\n",
       "        [-0.7916, -0.7535,  1.7878, -0.3890, -1.1483, -1.3955, -0.3308,  0.4340,\n",
       "         -1.6240,  0.0469,  0.2348,  1.2304, -0.2808, -0.2349, -0.0063, -1.0051,\n",
       "         -1.1442, -1.0616, -0.9591,  0.7995],\n",
       "        [-0.7916, -0.7535,  1.7878, -0.3890, -1.1483, -1.3955, -0.3308,  0.4340,\n",
       "         -1.6240,  0.0469,  0.2348,  1.2304, -0.2808, -0.2349, -0.0063, -1.0051,\n",
       "         -1.1442, -1.0616, -0.9591,  0.7995]], grad_fn=<ViewBackward0>)"
      ]
     },
     "execution_count": 16,
     "metadata": {},
     "output_type": "execute_result"
    }
   ],
   "source": [
    "word_vectors.view(word_vectors.shape)"
   ]
  },
  {
   "cell_type": "code",
   "execution_count": 17,
   "id": "0ce1a74a-e7a9-45f7-8e4d-18088be5f89c",
   "metadata": {},
   "outputs": [
    {
     "data": {
      "text/plain": [
       "array([ 0.87744504,  2.6091251 , -1.6473674 ,  0.739503  ,  2.5295432 ,\n",
       "        0.9153646 ,  1.3531317 , -0.5063943 ,  0.478623  ,  1.3478467 ,\n",
       "        0.37872705, -1.2010821 , -0.3319827 ,  0.3510692 ,  0.39023072,\n",
       "       -0.8412367 , -0.30378404,  1.0620909 , -2.1123266 , -1.0390626 ,\n",
       "       -0.11561434, -0.89245903,  2.3348405 ,  2.004957  ,  0.9116171 ,\n",
       "       -0.41804042,  0.15331705,  1.1944932 ,  1.5876695 , -1.4791347 ,\n",
       "        0.15005708,  0.7314496 ,  1.4813932 , -1.4479685 ,  0.52821666,\n",
       "       -0.08152338,  0.0329162 ,  0.42596632,  0.1926001 , -0.84533465,\n",
       "       -0.7916029 , -0.75350225,  1.7878226 , -0.38895676, -1.1482836 ,\n",
       "       -1.395541  , -0.3307842 ,  0.4339944 , -1.6239568 ,  0.04687895,\n",
       "        0.23482616,  1.2304263 , -0.28079075, -0.23490097, -0.00626535,\n",
       "       -1.0051268 , -1.1442207 , -1.0616112 , -0.95910597,  0.79948807,\n",
       "       -0.7916029 , -0.75350225,  1.7878226 , -0.38895676, -1.1482836 ,\n",
       "       -1.395541  , -0.3307842 ,  0.4339944 , -1.6239568 ,  0.04687895,\n",
       "        0.23482616,  1.2304263 , -0.28079075, -0.23490097, -0.00626535,\n",
       "       -1.0051268 , -1.1442207 , -1.0616112 , -0.95910597,  0.79948807,\n",
       "       -0.7916029 , -0.75350225,  1.7878226 , -0.38895676, -1.1482836 ,\n",
       "       -1.395541  , -0.3307842 ,  0.4339944 , -1.6239568 ,  0.04687895,\n",
       "        0.23482616,  1.2304263 , -0.28079075, -0.23490097, -0.00626535,\n",
       "       -1.0051268 , -1.1442207 , -1.0616112 , -0.95910597,  0.79948807,\n",
       "       -0.7916029 , -0.75350225,  1.7878226 , -0.38895676, -1.1482836 ,\n",
       "       -1.395541  , -0.3307842 ,  0.4339944 , -1.6239568 ,  0.04687895,\n",
       "        0.23482616,  1.2304263 , -0.28079075, -0.23490097, -0.00626535,\n",
       "       -1.0051268 , -1.1442207 , -1.0616112 , -0.95910597,  0.79948807,\n",
       "       -0.7916029 , -0.75350225,  1.7878226 , -0.38895676, -1.1482836 ,\n",
       "       -1.395541  , -0.3307842 ,  0.4339944 , -1.6239568 ,  0.04687895,\n",
       "        0.23482616,  1.2304263 , -0.28079075, -0.23490097, -0.00626535,\n",
       "       -1.0051268 , -1.1442207 , -1.0616112 , -0.95910597,  0.79948807,\n",
       "       -0.7916029 , -0.75350225,  1.7878226 , -0.38895676, -1.1482836 ,\n",
       "       -1.395541  , -0.3307842 ,  0.4339944 , -1.6239568 ,  0.04687895,\n",
       "        0.23482616,  1.2304263 , -0.28079075, -0.23490097, -0.00626535,\n",
       "       -1.0051268 , -1.1442207 , -1.0616112 , -0.95910597,  0.79948807,\n",
       "       -0.7916029 , -0.75350225,  1.7878226 , -0.38895676, -1.1482836 ,\n",
       "       -1.395541  , -0.3307842 ,  0.4339944 , -1.6239568 ,  0.04687895,\n",
       "        0.23482616,  1.2304263 , -0.28079075, -0.23490097, -0.00626535,\n",
       "       -1.0051268 , -1.1442207 , -1.0616112 , -0.95910597,  0.79948807,\n",
       "       -0.7916029 , -0.75350225,  1.7878226 , -0.38895676, -1.1482836 ,\n",
       "       -1.395541  , -0.3307842 ,  0.4339944 , -1.6239568 ,  0.04687895,\n",
       "        0.23482616,  1.2304263 , -0.28079075, -0.23490097, -0.00626535,\n",
       "       -1.0051268 , -1.1442207 , -1.0616112 , -0.95910597,  0.79948807],\n",
       "      dtype=float32)"
      ]
     },
     "execution_count": 17,
     "metadata": {},
     "output_type": "execute_result"
    }
   ],
   "source": [
    "vector = word_vectors.reshape(word_vectors.shape[0]*word_vectors.shape[1]).detach().numpy()\n",
    "vector"
   ]
  },
  {
   "cell_type": "code",
   "execution_count": 18,
   "id": "9a5be641-14ee-45fa-8fa6-fd73834ac05d",
   "metadata": {},
   "outputs": [],
   "source": [
    "def get_encoded_sentences(sentance):\n",
    "    words = sentance.split(' ')\n",
    "    encoded_words = [word2idx[word] for word in words]\n",
    "    return encoded_words\n",
    "\n",
    "def get_decoded_sentences(encoded_words):\n",
    "    sentance = ' '.join([idx2word[idx] for idx in encoded_words])\n",
    "    return sentance"
   ]
  },
  {
   "cell_type": "code",
   "execution_count": 19,
   "id": "df258a3a-0f6b-4f63-bfd3-f60a06f65471",
   "metadata": {},
   "outputs": [
    {
     "data": {
      "text/plain": [
       "'dark-skin-tone'"
      ]
     },
     "execution_count": 19,
     "metadata": {},
     "output_type": "execute_result"
    }
   ],
   "source": [
    "get_decoded_sentences(get_encoded_sentences(\"dark-skin-tone\"))"
   ]
  },
  {
   "cell_type": "code",
   "execution_count": 20,
   "id": "4cf66ff1-0d7d-4f1c-b0af-29b0396bf3c8",
   "metadata": {},
   "outputs": [
    {
     "data": {
      "text/plain": [
       "{'image': <PIL.PngImagePlugin.PngImageFile image mode=RGBA size=64x64>,\n",
       " 'company': 'huawei',\n",
       " 'content': 'BACK arrow',\n",
       " 'description': '',\n",
       " 'textwithoutcompany': 'BACK arrow',\n",
       " 'fulltext': 'huawei BACK arrow',\n",
       " 'textwithoutcompanycombined': 'BACK arrow'}"
      ]
     },
     "execution_count": 20,
     "metadata": {},
     "output_type": "execute_result"
    }
   ],
   "source": [
    "reloaded_dataset[\"train\"][2]"
   ]
  },
  {
   "cell_type": "code",
   "execution_count": 21,
   "id": "91ac0e54-90bd-4c20-8cb8-7e333548f279",
   "metadata": {},
   "outputs": [],
   "source": [
    "fulltext_vector = []\n",
    "for data in reloaded_dataset[\"train\"]:\n",
    "    #print(data[\"fulltext\"])\n",
    "    #print(get_encoded_sentences(data[\"fulltext\"]))\n",
    "    encoded_sentences = get_encoded_sentences(data[\"textwithoutcompanycombined\"])\n",
    "    encoded_sentences = np.pad(encoded_sentences, [(0, 10-len(encoded_sentences))], mode='constant', constant_values=0)\n",
    "    word_vectors = emb(torch.LongTensor(encoded_sentences))\n",
    "    word_vectors = word_vectors.reshape(word_vectors.shape[0]*word_vectors.shape[1]).detach().numpy()\n",
    "    fulltext_vector.append(word_vectors)\n",
    "    #print(fulltext_vector)"
   ]
  },
  {
   "cell_type": "code",
   "execution_count": 22,
   "id": "c913b2c3-8ba9-4eae-bcc3-93ef0998f40b",
   "metadata": {},
   "outputs": [
    {
     "data": {
      "text/plain": [
       "DatasetDict({\n",
       "    train: Dataset({\n",
       "        features: ['image', 'company', 'content', 'description', 'textwithoutcompany', 'fulltext', 'textwithoutcompanycombined', 'fulltext_vector'],\n",
       "        num_rows: 33034\n",
       "    })\n",
       "    test: Dataset({\n",
       "        features: ['image', 'company', 'content', 'description', 'textwithoutcompany', 'fulltext', 'textwithoutcompanycombined'],\n",
       "        num_rows: 14158\n",
       "    })\n",
       "})"
      ]
     },
     "execution_count": 22,
     "metadata": {},
     "output_type": "execute_result"
    }
   ],
   "source": [
    "reloaded_dataset[\"train\"]=reloaded_dataset[\"train\"].add_column(\"fulltext_vector\", fulltext_vector)\n",
    "reloaded_dataset"
   ]
  },
  {
   "cell_type": "code",
   "execution_count": 23,
   "id": "acdbc88f-1cba-4c75-86fd-db9f59454a50",
   "metadata": {},
   "outputs": [],
   "source": [
    "fulltext_vector = []\n",
    "for data in reloaded_dataset[\"test\"]:\n",
    "    #print(data[\"fulltext\"])\n",
    "    #print(get_encoded_sentences(data[\"fulltext\"]))\n",
    "    encoded_sentences = get_encoded_sentences(data[\"textwithoutcompanycombined\"])\n",
    "    encoded_sentences = np.pad(encoded_sentences, [(0, 10-len(encoded_sentences))], mode='constant', constant_values=0)\n",
    "    word_vectors = emb(torch.LongTensor(encoded_sentences))\n",
    "    word_vectors = word_vectors.reshape(word_vectors.shape[0]*word_vectors.shape[1]).detach().numpy()\n",
    "    fulltext_vector.append(word_vectors)\n",
    "    #print(fulltext_vector)"
   ]
  },
  {
   "cell_type": "code",
   "execution_count": 24,
   "id": "e51f138c-117c-4f79-8260-de1d56512d07",
   "metadata": {},
   "outputs": [
    {
     "data": {
      "text/plain": [
       "DatasetDict({\n",
       "    train: Dataset({\n",
       "        features: ['image', 'company', 'content', 'description', 'textwithoutcompany', 'fulltext', 'textwithoutcompanycombined', 'fulltext_vector'],\n",
       "        num_rows: 33034\n",
       "    })\n",
       "    test: Dataset({\n",
       "        features: ['image', 'company', 'content', 'description', 'textwithoutcompany', 'fulltext', 'textwithoutcompanycombined', 'fulltext_vector'],\n",
       "        num_rows: 14158\n",
       "    })\n",
       "})"
      ]
     },
     "execution_count": 24,
     "metadata": {},
     "output_type": "execute_result"
    }
   ],
   "source": [
    "reloaded_dataset[\"test\"]=reloaded_dataset[\"test\"].add_column(\"fulltext_vector\", fulltext_vector)\n",
    "reloaded_dataset"
   ]
  },
  {
   "cell_type": "code",
   "execution_count": 25,
   "id": "a7c46e54-87c7-40c4-836c-b72dfbaea28e",
   "metadata": {},
   "outputs": [
    {
     "data": {
      "application/vnd.jupyter.widget-view+json": {
       "model_id": "e4031691fdab4d5c8e9af617a6122e3e",
       "version_major": 2,
       "version_minor": 0
      },
      "text/plain": [
       "Saving the dataset (0/1 shards):   0%|          | 0/33034 [00:00<?, ? examples/s]"
      ]
     },
     "metadata": {},
     "output_type": "display_data"
    },
    {
     "data": {
      "application/vnd.jupyter.widget-view+json": {
       "model_id": "2775bff8314946808a3f5b1d380b56b3",
       "version_major": 2,
       "version_minor": 0
      },
      "text/plain": [
       "Saving the dataset (0/1 shards):   0%|          | 0/14158 [00:00<?, ? examples/s]"
      ]
     },
     "metadata": {},
     "output_type": "display_data"
    }
   ],
   "source": [
    "reloaded_dataset.save_to_disk(\"PreProcessedDataWithEmb4\")"
   ]
  },
  {
   "cell_type": "code",
   "execution_count": 26,
   "id": "05367cd9-0afc-40cc-8dc7-2b9689eb1506",
   "metadata": {},
   "outputs": [
    {
     "data": {
      "text/plain": [
       "DatasetDict({\n",
       "    train: Dataset({\n",
       "        features: ['image', 'company', 'content', 'description', 'textwithoutcompany', 'fulltext', 'textwithoutcompanycombined', 'fulltext_vector'],\n",
       "        num_rows: 33034\n",
       "    })\n",
       "    test: Dataset({\n",
       "        features: ['image', 'company', 'content', 'description', 'textwithoutcompany', 'fulltext', 'textwithoutcompanycombined', 'fulltext_vector'],\n",
       "        num_rows: 14158\n",
       "    })\n",
       "})"
      ]
     },
     "execution_count": 26,
     "metadata": {},
     "output_type": "execute_result"
    }
   ],
   "source": [
    "reloaded_dataset = load_from_disk(\"PreProcessedDataWithEmb4\")\n",
    "reloaded_dataset"
   ]
  },
  {
   "cell_type": "code",
   "execution_count": null,
   "id": "09c9fd9f-173d-41e1-902b-4e0b60f1dd34",
   "metadata": {},
   "outputs": [],
   "source": []
  }
 ],
 "metadata": {
  "kernelspec": {
   "display_name": "Python 3 (ipykernel)",
   "language": "python",
   "name": "python3"
  },
  "language_info": {
   "codemirror_mode": {
    "name": "ipython",
    "version": 3
   },
   "file_extension": ".py",
   "mimetype": "text/x-python",
   "name": "python",
   "nbconvert_exporter": "python",
   "pygments_lexer": "ipython3",
   "version": "3.8.12"
  }
 },
 "nbformat": 4,
 "nbformat_minor": 5
}
