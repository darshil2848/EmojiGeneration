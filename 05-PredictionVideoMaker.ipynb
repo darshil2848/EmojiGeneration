{
 "cells": [
  {
   "cell_type": "code",
   "execution_count": 1,
   "id": "77dbeabd-4203-4282-94ed-d839b9a8c60d",
   "metadata": {},
   "outputs": [],
   "source": [
    "import cv2\n",
    "import os\n",
    "\n",
    "from matplotlib import pyplot as plt\n",
    "\n",
    "rootfolder = 'results-20240922-071227'\n",
    "\n",
    "size = (64*8*2,64*16*2)\n",
    "\n",
    "vertical = True\n",
    "\n",
    "if size[1]>size[0]:\n",
    "    vertical = False\n",
    "    size = (size[1],size[0])\n",
    "\n",
    "vid_fname = os.path.join(rootfolder,'gans_predict.mp4')\n",
    "\n",
    "folderdir = os.path.join(rootfolder,\"predict\")"
   ]
  },
  {
   "cell_type": "code",
   "execution_count": 2,
   "id": "02cf5480-c426-49d6-97e2-261f9d1c83c1",
   "metadata": {},
   "outputs": [
    {
     "ename": "FileNotFoundError",
     "evalue": "[Errno 2] No such file or directory: 'results-20240922-071227/predict'",
     "output_type": "error",
     "traceback": [
      "\u001b[0;31m---------------------------------------------------------------------------\u001b[0m",
      "\u001b[0;31mFileNotFoundError\u001b[0m                         Traceback (most recent call last)",
      "Input \u001b[0;32mIn [2]\u001b[0m, in \u001b[0;36m<module>\u001b[0;34m\u001b[0m\n\u001b[1;32m      1\u001b[0m real_images \u001b[38;5;241m=\u001b[39m []\n\u001b[1;32m      2\u001b[0m gen_images \u001b[38;5;241m=\u001b[39m []\n\u001b[0;32m----> 3\u001b[0m \u001b[38;5;28;01mfor\u001b[39;00m file \u001b[38;5;129;01min\u001b[39;00m \u001b[38;5;28mrange\u001b[39m(\u001b[38;5;241m1\u001b[39m,\u001b[38;5;28mint\u001b[39m(\u001b[38;5;28mlen\u001b[39m(\u001b[43mos\u001b[49m\u001b[38;5;241;43m.\u001b[39;49m\u001b[43mlistdir\u001b[49m\u001b[43m(\u001b[49m\u001b[43mfolderdir\u001b[49m\u001b[43m)\u001b[49m)\u001b[38;5;241m/\u001b[39m\u001b[38;5;241m2\u001b[39m)\u001b[38;5;241m+\u001b[39m\u001b[38;5;241m1\u001b[39m):\n\u001b[1;32m      4\u001b[0m         real_images\u001b[38;5;241m.\u001b[39mappend(os\u001b[38;5;241m.\u001b[39mpath\u001b[38;5;241m.\u001b[39mjoin(folderdir,\u001b[38;5;28mstr\u001b[39m(file)\u001b[38;5;241m+\u001b[39m\u001b[38;5;124m\"\u001b[39m\u001b[38;5;124m-real.png\u001b[39m\u001b[38;5;124m\"\u001b[39m))\n\u001b[1;32m      5\u001b[0m         gen_images\u001b[38;5;241m.\u001b[39mappend(os\u001b[38;5;241m.\u001b[39mpath\u001b[38;5;241m.\u001b[39mjoin(folderdir,\u001b[38;5;28mstr\u001b[39m(file)\u001b[38;5;241m+\u001b[39m\u001b[38;5;124m\"\u001b[39m\u001b[38;5;124m-prediction.png\u001b[39m\u001b[38;5;124m\"\u001b[39m))\n",
      "\u001b[0;31mFileNotFoundError\u001b[0m: [Errno 2] No such file or directory: 'results-20240922-071227/predict'"
     ]
    }
   ],
   "source": [
    "real_images = []\n",
    "gen_images = []\n",
    "for file in range(1,int(len(os.listdir(folderdir))/2)+1):\n",
    "        real_images.append(os.path.join(folderdir,str(file)+\"-real.png\"))\n",
    "        gen_images.append(os.path.join(folderdir,str(file)+\"-prediction.png\"))"
   ]
  },
  {
   "cell_type": "code",
   "execution_count": null,
   "id": "05afe7d4-2690-4d55-a73d-c1315335b856",
   "metadata": {},
   "outputs": [],
   "source": [
    "real_images,gen_images"
   ]
  },
  {
   "cell_type": "code",
   "execution_count": null,
   "id": "6953cb15-42af-4a21-bf65-d35dfa747053",
   "metadata": {},
   "outputs": [],
   "source": [
    "#cap = cv2.VideoCapture(0)\n",
    "out = cv2.VideoWriter(vid_fname,cv2.VideoWriter_fourcc(*'mp4v'), 1, size)"
   ]
  },
  {
   "cell_type": "code",
   "execution_count": null,
   "id": "5e0efd04-f192-4b19-b3d9-0c59de3a6b3a",
   "metadata": {},
   "outputs": [],
   "source": [
    "plt.imshow(cv2.cvtColor(cv2.imread(real_images[0]), cv2.COLOR_BGR2RGB))"
   ]
  },
  {
   "cell_type": "code",
   "execution_count": null,
   "id": "b3097e85-39b4-4d81-8b67-78bc52efbf23",
   "metadata": {},
   "outputs": [],
   "source": [
    "plt.imshow(cv2.cvtColor(cv2.imread(gen_images[0]), cv2.COLOR_BGR2RGB))"
   ]
  },
  {
   "cell_type": "code",
   "execution_count": null,
   "id": "7fa92036-d0e8-4e66-80b1-8acf967de127",
   "metadata": {},
   "outputs": [],
   "source": [
    "frames = []\n",
    "for real,gen in zip(real_images,gen_images):\n",
    "    #print(real)\n",
    "    if vertical:\n",
    "        im_v = cv2.resize(cv2.vconcat([cv2.imread(real), cv2.imread(gen)]),size)\n",
    "    else:\n",
    "        im_v = cv2.resize(cv2.hconcat([cv2.imread(real), cv2.imread(gen)]),size)\n",
    "    frames.append(im_v)\n",
    "for f in frames:\n",
    "    out.write(f)"
   ]
  },
  {
   "cell_type": "code",
   "execution_count": null,
   "id": "1b4db46f-8d9c-4eae-bd84-e8c494bdcd47",
   "metadata": {},
   "outputs": [],
   "source": [
    "frames[0].shape"
   ]
  },
  {
   "cell_type": "code",
   "execution_count": null,
   "id": "0e930772-ee53-4a5f-8596-d82722b60b7f",
   "metadata": {},
   "outputs": [],
   "source": [
    "plt.imshow(cv2.cvtColor(frames[0],cv2.COLOR_BGR2RGB))"
   ]
  },
  {
   "cell_type": "code",
   "execution_count": null,
   "id": "e8fefbf1-d3de-4def-b11d-cf7ee6fff80f",
   "metadata": {},
   "outputs": [],
   "source": [
    "out.release()"
   ]
  },
  {
   "cell_type": "code",
   "execution_count": null,
   "id": "5c133228-4aac-4486-8eee-366311a569a5",
   "metadata": {},
   "outputs": [],
   "source": []
  }
 ],
 "metadata": {
  "kernelspec": {
   "display_name": "Python 3 (ipykernel)",
   "language": "python",
   "name": "python3"
  },
  "language_info": {
   "codemirror_mode": {
    "name": "ipython",
    "version": 3
   },
   "file_extension": ".py",
   "mimetype": "text/x-python",
   "name": "python",
   "nbconvert_exporter": "python",
   "pygments_lexer": "ipython3",
   "version": "3.8.12"
  }
 },
 "nbformat": 4,
 "nbformat_minor": 5
}
